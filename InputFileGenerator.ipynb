{
 "cells": [
  {
   "cell_type": "markdown",
   "metadata": {},
   "source": [
    "# Generating input files necessary for the simulation\n",
    "#### These files need to be generated for the main simulation. \n",
    "\n",
    "All you need to define is number of rows, columns, and if you want, number of time points T (min 3), average deme size N, and batch name - all your input files will use this batch name as prefix. \n",
    "\n",
    "### Demographic history\n",
    "\n",
    "This file contains demographic history of the simulated population. It contains T rows (T different time points) of sub-populations sizes for each cell in the grid (rows x columns). Empty cells have sub-populations of size 0.\n",
    "Function  generate_basic_homogenous_static(rows, cols, pop=10, time=3, batch_name='') generates T identical rows with population sizes N for the grid (rows x cols). It also makes a figure - map of the final time point (presence)\n",
    "Saved into batch_name+'HomogFixedDataT'+str(T)+'Row'+str(rows)+'Col'+str(cols)+'N'+str(N)+'.txt'\n",
    "\n",
    "Function generate_fixed_data(rows, cols, T, N,  batch_name=''): generates T identical rows with population sizes for the grid (rows x cols) drawn from uniform distribution with mean N (from 0 to 2N) and saves it into \n",
    "batch_name_dataT[T]Row[rows]Col[cols]N[N].txt'\n",
    "\n",
    "### Migration list\n",
    "\n",
    "Migration list with constant forward migration is generated, assuming that demes that share an edge are symmetrically connested with migration m. \n",
    "Migration list is saved to a file 'batch_name_mig_list[m].txt, as source cell, target cell, migration rate. By default migration rate is specified to 0.1. \n",
    "\n",
    "### Ancestral population list\n",
    "This list contains information about the source population for each cell. Function generate_ancestral_pop(row, col, batch_name='') generates a vector of 1 (all sub-populations originating in a single population), saving it to 'batch_name_anc_pop.tsv'. \n",
    "\n",
    "### Sample list\n",
    "Function generate_sample_list(rows, cols,s=0.1, batch_name='') randomly samples fraction s of all cells without repetition (2 samples are taken from each sampled grid cell by gridCoal simulator). Note that some of the sampled cells may be emptied at the final time point, resulting in an error. If no sample list is specified for gridCoal, it automatically samples all non-zero cells. \n",
    "\n",
    "\n",
    "\n",
    "\n"
   ]
  },
  {
   "cell_type": "code",
   "execution_count": 58,
   "metadata": {},
   "outputs": [],
   "source": [
    "import csv\n",
    "import numpy as np\n",
    "import timeit\n",
    "from pathlib import Path\n",
    "import random\n",
    "import matplotlib.pyplot as plt\n",
    "%matplotlib inline  "
   ]
  },
  {
   "cell_type": "code",
   "execution_count": 59,
   "metadata": {},
   "outputs": [],
   "source": [
    "rows = 6\n",
    "cols = 7\n",
    "T = 4\n",
    "N=10\n",
    "batch_name = 'My_Test_'"
   ]
  },
  {
   "cell_type": "code",
   "execution_count": 60,
   "metadata": {},
   "outputs": [
    {
     "data": {
      "image/png": "[encoded data removed]",
      "text/plain": [
       "<Figure size 432x288 with 2 Axes>"
      ]
     },
     "metadata": {
      "needs_background": "light"
     },
     "output_type": "display_data"
    },
    {
     "data": {
      "text/plain": [
       "<Figure size 432x288 with 0 Axes>"
      ]
     },
     "metadata": {},
     "output_type": "display_data"
    }
   ],
   "source": [
    "def generate_basic_homogenous_static(rows, cols, pop=10, time=3, batch_name=''):\n",
    "    this_map=np.zeros([rows,cols])+N\n",
    "    demography=time*[np.zeros([rows*cols])+N]\n",
    "    plt.pcolor(this_map)\n",
    "    plt.colorbar()\n",
    "    plt.title('map in presence')\n",
    "    plt.show()\n",
    "    plt.savefig(batch_name+'FigureHomogFixed.png')\n",
    "    np.savetxt(batch_name+'HomogFixedDataT'+str(T)+'Row'+str(rows)+'Col'+str(cols)+'N'+str(N)+'.txt',test_data_T,  fmt='%1d', delimiter='\\t')\n",
    "    \n",
    "    \n",
    "generate_basic_homogenous_static(rows, cols, N, T, batch_name=batch_name)   "
   ]
  },
  {
   "cell_type": "code",
   "execution_count": 61,
   "metadata": {},
   "outputs": [
    {
     "data": {
      "image/png": "[encoded data removed]",
      "text/plain": [
       "<Figure size 432x288 with 2 Axes>"
      ]
     },
     "metadata": {
      "needs_background": "light"
     },
     "output_type": "display_data"
    },
    {
     "data": {
      "text/plain": [
       "<Figure size 432x288 with 0 Axes>"
      ]
     },
     "metadata": {},
     "output_type": "display_data"
    }
   ],
   "source": [
    "def generate_fixed_data(rows, cols, N, T=3,  batch_name=''):\n",
    "    test_data=np.around(np.random.uniform(0,2*N,[rows*cols]))\n",
    "    test_data_T=T*[test_data]\n",
    "    test_data_T=np.array(test_data_T)\n",
    "    this_map=np.reshape(test_data, [rows, cols])\n",
    "    plt.pcolor(this_map)\n",
    "    plt.colorbar()\n",
    "    plt.title('map in presence')\n",
    "    plt.show()\n",
    "    plt.savefig(batch_name+'FigureUnifFixed.png')\n",
    "\n",
    "    np.savetxt(batch_name+'UnifFixedDataT'+str(T)+'Row'+str(rows)+'Col'+str(cols)+'N'+str(N)+'.txt',test_data_T,  fmt='%1d', delimiter='\\t')\n",
    "    return test_data_T\n",
    "\n",
    "test_data_T=generate_fixed_data(rows, cols, N=N, T=T, batch_name=batch_name  )\n"
   ]
  },
  {
   "cell_type": "code",
   "execution_count": 62,
   "metadata": {},
   "outputs": [
    {
     "data": {
      "text/plain": [
       "array([[ 0. ,  1. ,  0.1],\n",
       "       [ 0. ,  7. ,  0.1],\n",
       "       [ 1. ,  0. ,  0.1],\n",
       "       [ 1. ,  2. ,  0.1],\n",
       "       [ 1. ,  8. ,  0.1],\n",
       "       [ 2. ,  1. ,  0.1],\n",
       "       [ 2. ,  3. ,  0.1],\n",
       "       [ 2. ,  9. ,  0.1],\n",
       "       [ 3. ,  2. ,  0.1],\n",
       "       [ 3. ,  4. ,  0.1],\n",
       "       [ 3. , 10. ,  0.1],\n",
       "       [ 4. ,  3. ,  0.1],\n",
       "       [ 4. ,  5. ,  0.1],\n",
       "       [ 4. , 11. ,  0.1],\n",
       "       [ 5. ,  4. ,  0.1],\n",
       "       [ 5. ,  6. ,  0.1],\n",
       "       [ 5. , 12. ,  0.1],\n",
       "       [ 6. ,  5. ,  0.1],\n",
       "       [ 6. , 13. ,  0.1],\n",
       "       [ 7. ,  0. ,  0.1],\n",
       "       [ 7. ,  8. ,  0.1],\n",
       "       [ 7. , 14. ,  0.1],\n",
       "       [ 8. ,  1. ,  0.1],\n",
       "       [ 8. ,  7. ,  0.1],\n",
       "       [ 8. ,  9. ,  0.1],\n",
       "       [ 8. , 15. ,  0.1],\n",
       "       [ 9. ,  2. ,  0.1],\n",
       "       [ 9. ,  8. ,  0.1],\n",
       "       [ 9. , 10. ,  0.1],\n",
       "       [ 9. , 16. ,  0.1],\n",
       "       [10. ,  3. ,  0.1],\n",
       "       [10. ,  9. ,  0.1],\n",
       "       [10. , 11. ,  0.1],\n",
       "       [10. , 17. ,  0.1],\n",
       "       [11. ,  4. ,  0.1],\n",
       "       [11. , 10. ,  0.1],\n",
       "       [11. , 12. ,  0.1],\n",
       "       [11. , 18. ,  0.1],\n",
       "       [12. ,  5. ,  0.1],\n",
       "       [12. , 11. ,  0.1],\n",
       "       [12. , 13. ,  0.1],\n",
       "       [12. , 19. ,  0.1],\n",
       "       [13. ,  6. ,  0.1],\n",
       "       [13. , 12. ,  0.1],\n",
       "       [13. , 20. ,  0.1],\n",
       "       [14. ,  7. ,  0.1],\n",
       "       [14. , 15. ,  0.1],\n",
       "       [14. , 21. ,  0.1],\n",
       "       [15. ,  8. ,  0.1],\n",
       "       [15. , 14. ,  0.1],\n",
       "       [15. , 16. ,  0.1],\n",
       "       [15. , 22. ,  0.1],\n",
       "       [16. ,  9. ,  0.1],\n",
       "       [16. , 15. ,  0.1],\n",
       "       [16. , 17. ,  0.1],\n",
       "       [16. , 23. ,  0.1],\n",
       "       [17. , 10. ,  0.1],\n",
       "       [17. , 16. ,  0.1],\n",
       "       [17. , 18. ,  0.1],\n",
       "       [17. , 24. ,  0.1],\n",
       "       [18. , 11. ,  0.1],\n",
       "       [18. , 17. ,  0.1],\n",
       "       [18. , 19. ,  0.1],\n",
       "       [18. , 25. ,  0.1],\n",
       "       [19. , 12. ,  0.1],\n",
       "       [19. , 18. ,  0.1],\n",
       "       [19. , 20. ,  0.1],\n",
       "       [19. , 26. ,  0.1],\n",
       "       [20. , 13. ,  0.1],\n",
       "       [20. , 19. ,  0.1],\n",
       "       [20. , 27. ,  0.1],\n",
       "       [21. , 14. ,  0.1],\n",
       "       [21. , 22. ,  0.1],\n",
       "       [21. , 28. ,  0.1],\n",
       "       [22. , 15. ,  0.1],\n",
       "       [22. , 21. ,  0.1],\n",
       "       [22. , 23. ,  0.1],\n",
       "       [22. , 29. ,  0.1],\n",
       "       [23. , 16. ,  0.1],\n",
       "       [23. , 22. ,  0.1],\n",
       "       [23. , 24. ,  0.1],\n",
       "       [23. , 30. ,  0.1],\n",
       "       [24. , 17. ,  0.1],\n",
       "       [24. , 23. ,  0.1],\n",
       "       [24. , 25. ,  0.1],\n",
       "       [24. , 31. ,  0.1],\n",
       "       [25. , 18. ,  0.1],\n",
       "       [25. , 24. ,  0.1],\n",
       "       [25. , 26. ,  0.1],\n",
       "       [25. , 32. ,  0.1],\n",
       "       [26. , 19. ,  0.1],\n",
       "       [26. , 25. ,  0.1],\n",
       "       [26. , 27. ,  0.1],\n",
       "       [26. , 33. ,  0.1],\n",
       "       [27. , 20. ,  0.1],\n",
       "       [27. , 26. ,  0.1],\n",
       "       [27. , 34. ,  0.1],\n",
       "       [28. , 21. ,  0.1],\n",
       "       [28. , 29. ,  0.1],\n",
       "       [28. , 35. ,  0.1],\n",
       "       [29. , 22. ,  0.1],\n",
       "       [29. , 28. ,  0.1],\n",
       "       [29. , 30. ,  0.1],\n",
       "       [29. , 36. ,  0.1],\n",
       "       [30. , 23. ,  0.1],\n",
       "       [30. , 29. ,  0.1],\n",
       "       [30. , 31. ,  0.1],\n",
       "       [30. , 37. ,  0.1],\n",
       "       [31. , 24. ,  0.1],\n",
       "       [31. , 30. ,  0.1],\n",
       "       [31. , 32. ,  0.1],\n",
       "       [31. , 38. ,  0.1],\n",
       "       [32. , 25. ,  0.1],\n",
       "       [32. , 31. ,  0.1],\n",
       "       [32. , 33. ,  0.1],\n",
       "       [32. , 39. ,  0.1],\n",
       "       [33. , 26. ,  0.1],\n",
       "       [33. , 32. ,  0.1],\n",
       "       [33. , 34. ,  0.1],\n",
       "       [33. , 40. ,  0.1],\n",
       "       [34. , 27. ,  0.1],\n",
       "       [34. , 33. ,  0.1],\n",
       "       [34. , 41. ,  0.1],\n",
       "       [35. , 28. ,  0.1],\n",
       "       [35. , 36. ,  0.1],\n",
       "       [36. , 29. ,  0.1],\n",
       "       [36. , 35. ,  0.1],\n",
       "       [36. , 37. ,  0.1],\n",
       "       [37. , 30. ,  0.1],\n",
       "       [37. , 36. ,  0.1],\n",
       "       [37. , 38. ,  0.1],\n",
       "       [38. , 31. ,  0.1],\n",
       "       [38. , 37. ,  0.1],\n",
       "       [38. , 39. ,  0.1],\n",
       "       [39. , 32. ,  0.1],\n",
       "       [39. , 38. ,  0.1],\n",
       "       [39. , 40. ,  0.1],\n",
       "       [40. , 33. ,  0.1],\n",
       "       [40. , 39. ,  0.1],\n",
       "       [40. , 41. ,  0.1],\n",
       "       [41. , 34. ,  0.1],\n",
       "       [41. , 40. ,  0.1]])"
      ]
     },
     "execution_count": 62,
     "metadata": {},
     "output_type": "execute_result"
    }
   ],
   "source": [
    "def generate_migration_list(rows, cols, m=0.1, batch_name=''):\n",
    "    n = rows*cols\n",
    "    add_mat = np.zeros([n,n])\n",
    "    for r in range(rows):\n",
    "        for c in range(cols):\n",
    "            i = r*cols + c\n",
    "            # Two inner diagonals\n",
    "            if c > 0: add_mat[i-1,i] = add_mat[i,i-1] = 1\n",
    "            # Two outer diagonals\n",
    "            if r > 0: add_mat[i-cols,i] = add_mat[i,i-cols] = 1\n",
    "    m_list=[]\n",
    "    for i in range(n):\n",
    "        for j in range (n):\n",
    "            if add_mat[i,j]==1:\n",
    "                m_list.append([int(i),int(j),m])\n",
    "    m_list=np.array(m_list) \n",
    "    np.savetxt(batch_name+'mig_list'+str(m)+'.txt', m_list, fmt= ['%i','%i','%4.2e'])\n",
    "    return m_list\n",
    " \n",
    "generate_migration_list(rows, cols, m=0.1, batch_name=batch_name )"
   ]
  },
  {
   "cell_type": "code",
   "execution_count": 63,
   "metadata": {},
   "outputs": [
    {
     "data": {
      "text/plain": [
       "[7, 8, 24, 27, 29, 37, 38, 41]"
      ]
     },
     "execution_count": 63,
     "metadata": {},
     "output_type": "execute_result"
    }
   ],
   "source": [
    "def generate_sample_list(rows, cols,s=0.1, batch_name=''):\n",
    "    \n",
    "    grid_size=rows*cols\n",
    "    samples=int(grid_size*s)\n",
    "    mr=range(0,grid_size,1)\n",
    "    sample_list= (random.sample(range(0,grid_size,1), samples))\n",
    "    sample_list.sort()\n",
    "    np.savetxt(batch_name+'sample_list.txt',sample_list,  fmt='%1d', delimiter='\\t')\n",
    "    return sample_list\n",
    "generate_sample_list(rows, cols, s=0.2, batch_name=batch_name )  \n",
    "#s is coverage - fraction of sampled grid cells. Note that this may include \n",
    "#some that are empty in the input data, which will cause error\n"
   ]
  },
  {
   "cell_type": "code",
   "execution_count": 64,
   "metadata": {},
   "outputs": [
    {
     "data": {
      "text/plain": [
       "[1,\n",
       " 1,\n",
       " 1,\n",
       " 1,\n",
       " 1,\n",
       " 1,\n",
       " 1,\n",
       " 1,\n",
       " 1,\n",
       " 1,\n",
       " 1,\n",
       " 1,\n",
       " 1,\n",
       " 1,\n",
       " 1,\n",
       " 1,\n",
       " 1,\n",
       " 1,\n",
       " 1,\n",
       " 1,\n",
       " 1,\n",
       " 1,\n",
       " 1,\n",
       " 1,\n",
       " 1,\n",
       " 1,\n",
       " 1,\n",
       " 1,\n",
       " 1,\n",
       " 1,\n",
       " 1,\n",
       " 1,\n",
       " 1,\n",
       " 1,\n",
       " 1,\n",
       " 1,\n",
       " 1,\n",
       " 1,\n",
       " 1,\n",
       " 1,\n",
       " 1,\n",
       " 1]"
      ]
     },
     "execution_count": 64,
     "metadata": {},
     "output_type": "execute_result"
    }
   ],
   "source": [
    "def generate_ancestral_pop(rows, cols, batch_name=''):\n",
    "    ancestral_pop=[]\n",
    "    for i in range(rows*cols):\n",
    "        ancestral_pop.append(1)\n",
    "    \n",
    "    \n",
    "    np.savetxt(batch_name+'anc_pop.txt', ancestral_pop, fmt= '%i')\n",
    "    return ancestral_pop\n",
    "generate_ancestral_pop(rows, cols, batch_name=batch_name )"
   ]
  },
  {
   "cell_type": "code",
   "execution_count": null,
   "metadata": {},
   "outputs": [],
   "source": []
  },
  {
   "cell_type": "markdown",
   "metadata": {},
   "source": [
    "# STOP HERE"
   ]
  },
  {
   "cell_type": "code",
   "execution_count": 45,
   "metadata": {},
   "outputs": [],
   "source": [
    "def generate_all_sample_list(grid_size, dem_data, batch_name=''):\n",
    "    data_input = np.loadtxt(dem_data)\n",
    "    today=data_input[-1, :]\n",
    "    samplelist=[]\n",
    "    for i in range(grid_size):\n",
    "        if today[i]>0:\n",
    "            samplelist.append(i)\n",
    "    samplelist=np.array(samplelist)\n",
    "    print (samplelist)\n",
    "    \n",
    "    np.savetxt(batch_name+'sample_list_all.tsv',samplelist,  fmt='%1d', delimiter='\\t')\n",
    "    return samplelist\n"
   ]
  },
  {
   "cell_type": "code",
   "execution_count": 47,
   "metadata": {},
   "outputs": [
    {
     "name": "stdout",
     "output_type": "stream",
     "text": [
      "[   1    2    3    4    5    6    7    8    9   10   11   12   13   14\n",
      "   20   21   22   23   24   25   31   32   33   34   46   47   51   52\n",
      "   55   56   57   58   59   60   61   62   63   64   65   66   67   68\n",
      "   69   70   71   72   73   74   75   99  100  101  102  103  104  105\n",
      "  110  111  112  113  114  115  116  117  118  119  120  121  122  123\n",
      "  124  125  126  127  149  150  152  153  154  155  156  157  158  164\n",
      "  165  166  167  168  169  170  171  172  173  174  175  176  177  178\n",
      "  179  180  193  194  195  202  203  205  206  207  208  209  210  211\n",
      "  216  217  218  219  220  223  224  225  226  227  228  229  230  231\n",
      "  232  233  237  245  250  251  252  253  254  255  256  257  258  259\n",
      "  260  261  262  263  264  267  268  269  270  271  272  273  274  275\n",
      "  282  285  288  289  290  291  296  297  298  299  300  301  302  303\n",
      "  304  305  306  307  308  309  310  311  312  313  314  315  316  317\n",
      "  319  320  321  322  323  324  325  326  327  328  329  330  337  342\n",
      "  343  344  345  346  349  350  351  352  353  354  355  356  357  358\n",
      "  359  360  361  362  363  364  367  368  369  370  372  373  374  375\n",
      "  376  377  378  379  380  381  382  383  384  385  386  390  391  397\n",
      "  398  399  400  401  402  403  404  405  407  408  409  410  411  412\n",
      "  413  414  415  416  417  418  420  426  427  428  429  430  431  432\n",
      "  433  434  435  443  444  449  450  451  452  453  454  455  456  457\n",
      "  458  459  460  461  462  463  464  465  466  467  468  469  470  471\n",
      "  472  473  474  479  480  481  482  483  484  485  486  487  488  489\n",
      "  490  491  496  497  500  501  502  503  504  505  507  508  509  510\n",
      "  511  512  513  514  515  516  517  518  519  520  521  522  523  524\n",
      "  525  527  528  529  531  532  533  534  535  536  537  538  539  540\n",
      "  541  542  543  544  549  550  551  552  553  554  555  557  558  559\n",
      "  560  561  562  563  565  566  567  568  576  582  584  585  586  587\n",
      "  588  589  590  591  592  593  594  595  596  597  598  599  600  601\n",
      "  602  604  605  606  607  609  610  611  612  613  614  615  616  617\n",
      "  618  619  620  621  622  633  645  646  647  648  649  650  651  652\n",
      "  654  655  656  657  658  659  660  661  662  663  664  665  666  667\n",
      "  668  669  670  671  672  673  674  675  676  680  681  682  684  685\n",
      "  686  687  688  698  699  700  701  702  703  704  705  708  709  710\n",
      "  711  712  713  714  715  716  717  718  719  720  721  727  728  729\n",
      "  730  732  733  734  735  736  737  738  739  740  741  750  751  752\n",
      "  753  754  755  756  757  758  759  768  769  770  771  772  773  774\n",
      "  781  782  783  784  786  787  788  789  790  791  792  801  802  803\n",
      "  804  805  806  807  808  809  810  811  812  813  814  815  822  823\n",
      "  824  825  826  827  854  855  856  857  858  859  860  861  862  863\n",
      "  864  865  866  867  868  869  870  871  872  873  874  875  876  906\n",
      "  909  910  911  912  913  914  915  916  917  918  919  920  921  922\n",
      "  923  924  959  960  961  962  963  964  965  966  967  968  969  970\n",
      "  971  972  973  974  975  976  977  978  979 1007 1008 1009 1010 1012\n",
      " 1013 1014 1015 1016 1017 1018 1019 1020 1021 1022 1023 1024 1025 1026\n",
      " 1027 1028 1029 1030 1031 1032 1033 1034 1035 1036 1060 1061 1062 1063\n",
      " 1064 1066 1067 1068 1069 1070 1071 1072 1075 1076 1077 1078 1079 1080\n",
      " 1081 1082 1083 1084 1085 1086 1113 1114 1115 1116 1117 1119 1120 1121\n",
      " 1122 1123 1124 1128 1129 1130 1131 1132 1133 1134 1135 1136 1137 1138\n",
      " 1139 1166 1167 1168 1169 1170 1171 1172 1173 1174 1175 1176 1185 1186\n",
      " 1187 1188 1189 1190 1192 1221 1222 1223 1224 1225 1226 1227 1228 1238\n",
      " 1239 1240 1241 1242]\n"
     ]
    },
    {
     "data": {
      "text/plain": [
       "array([   1,    2,    3,    4,    5,    6,    7,    8,    9,   10,   11,\n",
       "         12,   13,   14,   20,   21,   22,   23,   24,   25,   31,   32,\n",
       "         33,   34,   46,   47,   51,   52,   55,   56,   57,   58,   59,\n",
       "         60,   61,   62,   63,   64,   65,   66,   67,   68,   69,   70,\n",
       "         71,   72,   73,   74,   75,   99,  100,  101,  102,  103,  104,\n",
       "        105,  110,  111,  112,  113,  114,  115,  116,  117,  118,  119,\n",
       "        120,  121,  122,  123,  124,  125,  126,  127,  149,  150,  152,\n",
       "        153,  154,  155,  156,  157,  158,  164,  165,  166,  167,  168,\n",
       "        169,  170,  171,  172,  173,  174,  175,  176,  177,  178,  179,\n",
       "        180,  193,  194,  195,  202,  203,  205,  206,  207,  208,  209,\n",
       "        210,  211,  216,  217,  218,  219,  220,  223,  224,  225,  226,\n",
       "        227,  228,  229,  230,  231,  232,  233,  237,  245,  250,  251,\n",
       "        252,  253,  254,  255,  256,  257,  258,  259,  260,  261,  262,\n",
       "        263,  264,  267,  268,  269,  270,  271,  272,  273,  274,  275,\n",
       "        282,  285,  288,  289,  290,  291,  296,  297,  298,  299,  300,\n",
       "        301,  302,  303,  304,  305,  306,  307,  308,  309,  310,  311,\n",
       "        312,  313,  314,  315,  316,  317,  319,  320,  321,  322,  323,\n",
       "        324,  325,  326,  327,  328,  329,  330,  337,  342,  343,  344,\n",
       "        345,  346,  349,  350,  351,  352,  353,  354,  355,  356,  357,\n",
       "        358,  359,  360,  361,  362,  363,  364,  367,  368,  369,  370,\n",
       "        372,  373,  374,  375,  376,  377,  378,  379,  380,  381,  382,\n",
       "        383,  384,  385,  386,  390,  391,  397,  398,  399,  400,  401,\n",
       "        402,  403,  404,  405,  407,  408,  409,  410,  411,  412,  413,\n",
       "        414,  415,  416,  417,  418,  420,  426,  427,  428,  429,  430,\n",
       "        431,  432,  433,  434,  435,  443,  444,  449,  450,  451,  452,\n",
       "        453,  454,  455,  456,  457,  458,  459,  460,  461,  462,  463,\n",
       "        464,  465,  466,  467,  468,  469,  470,  471,  472,  473,  474,\n",
       "        479,  480,  481,  482,  483,  484,  485,  486,  487,  488,  489,\n",
       "        490,  491,  496,  497,  500,  501,  502,  503,  504,  505,  507,\n",
       "        508,  509,  510,  511,  512,  513,  514,  515,  516,  517,  518,\n",
       "        519,  520,  521,  522,  523,  524,  525,  527,  528,  529,  531,\n",
       "        532,  533,  534,  535,  536,  537,  538,  539,  540,  541,  542,\n",
       "        543,  544,  549,  550,  551,  552,  553,  554,  555,  557,  558,\n",
       "        559,  560,  561,  562,  563,  565,  566,  567,  568,  576,  582,\n",
       "        584,  585,  586,  587,  588,  589,  590,  591,  592,  593,  594,\n",
       "        595,  596,  597,  598,  599,  600,  601,  602,  604,  605,  606,\n",
       "        607,  609,  610,  611,  612,  613,  614,  615,  616,  617,  618,\n",
       "        619,  620,  621,  622,  633,  645,  646,  647,  648,  649,  650,\n",
       "        651,  652,  654,  655,  656,  657,  658,  659,  660,  661,  662,\n",
       "        663,  664,  665,  666,  667,  668,  669,  670,  671,  672,  673,\n",
       "        674,  675,  676,  680,  681,  682,  684,  685,  686,  687,  688,\n",
       "        698,  699,  700,  701,  702,  703,  704,  705,  708,  709,  710,\n",
       "        711,  712,  713,  714,  715,  716,  717,  718,  719,  720,  721,\n",
       "        727,  728,  729,  730,  732,  733,  734,  735,  736,  737,  738,\n",
       "        739,  740,  741,  750,  751,  752,  753,  754,  755,  756,  757,\n",
       "        758,  759,  768,  769,  770,  771,  772,  773,  774,  781,  782,\n",
       "        783,  784,  786,  787,  788,  789,  790,  791,  792,  801,  802,\n",
       "        803,  804,  805,  806,  807,  808,  809,  810,  811,  812,  813,\n",
       "        814,  815,  822,  823,  824,  825,  826,  827,  854,  855,  856,\n",
       "        857,  858,  859,  860,  861,  862,  863,  864,  865,  866,  867,\n",
       "        868,  869,  870,  871,  872,  873,  874,  875,  876,  906,  909,\n",
       "        910,  911,  912,  913,  914,  915,  916,  917,  918,  919,  920,\n",
       "        921,  922,  923,  924,  959,  960,  961,  962,  963,  964,  965,\n",
       "        966,  967,  968,  969,  970,  971,  972,  973,  974,  975,  976,\n",
       "        977,  978,  979, 1007, 1008, 1009, 1010, 1012, 1013, 1014, 1015,\n",
       "       1016, 1017, 1018, 1019, 1020, 1021, 1022, 1023, 1024, 1025, 1026,\n",
       "       1027, 1028, 1029, 1030, 1031, 1032, 1033, 1034, 1035, 1036, 1060,\n",
       "       1061, 1062, 1063, 1064, 1066, 1067, 1068, 1069, 1070, 1071, 1072,\n",
       "       1075, 1076, 1077, 1078, 1079, 1080, 1081, 1082, 1083, 1084, 1085,\n",
       "       1086, 1113, 1114, 1115, 1116, 1117, 1119, 1120, 1121, 1122, 1123,\n",
       "       1124, 1128, 1129, 1130, 1131, 1132, 1133, 1134, 1135, 1136, 1137,\n",
       "       1138, 1139, 1166, 1167, 1168, 1169, 1170, 1171, 1172, 1173, 1174,\n",
       "       1175, 1176, 1185, 1186, 1187, 1188, 1189, 1190, 1192, 1221, 1222,\n",
       "       1223, 1224, 1225, 1226, 1227, 1228, 1238, 1239, 1240, 1241, 1242])"
      ]
     },
     "execution_count": 47,
     "metadata": {},
     "output_type": "execute_result"
    }
   ],
   "source": [
    "generate_all_sample_list(24*53, dem_data='fir_A_shape.tsv', batch_name='fir')"
   ]
  },
  {
   "cell_type": "code",
   "execution_count": null,
   "metadata": {},
   "outputs": [],
   "source": []
  },
  {
   "cell_type": "code",
   "execution_count": 35,
   "metadata": {},
   "outputs": [
    {
     "name": "stdout",
     "output_type": "stream",
     "text": [
      "1e-06\n",
      "1\n",
      "(10, 20)\n"
     ]
    },
    {
     "ename": "TypeError",
     "evalue": "generate_sample_list() missing 1 required positional argument: 'grid_size'",
     "output_type": "error",
     "traceback": [
      "\u001b[0;31m---------------------------------------------------------------------------\u001b[0m",
      "\u001b[0;31mTypeError\u001b[0m                                 Traceback (most recent call last)",
      "\u001b[0;32m<ipython-input-35-f12a820ce718>\u001b[0m in \u001b[0;36m<module>\u001b[0;34m\u001b[0m\n\u001b[1;32m     10\u001b[0m \u001b[0mgenerate_ancestral_pop\u001b[0m\u001b[0;34m(\u001b[0m\u001b[0mrows\u001b[0m\u001b[0;34m,\u001b[0m \u001b[0mcols\u001b[0m\u001b[0;34m,\u001b[0m \u001b[0mbatch_name\u001b[0m\u001b[0;34m=\u001b[0m\u001b[0mbatch_name\u001b[0m\u001b[0;34m)\u001b[0m\u001b[0;34m\u001b[0m\u001b[0;34m\u001b[0m\u001b[0m\n\u001b[1;32m     11\u001b[0m \u001b[0mgenerate_ancestral_pop_sizes\u001b[0m\u001b[0;34m(\u001b[0m\u001b[0mtest_data_T\u001b[0m\u001b[0;34m,\u001b[0m \u001b[0mbatch_name\u001b[0m\u001b[0;34m=\u001b[0m\u001b[0mbatch_name\u001b[0m\u001b[0;34m)\u001b[0m\u001b[0;34m\u001b[0m\u001b[0;34m\u001b[0m\u001b[0m\n\u001b[0;32m---> 12\u001b[0;31m \u001b[0mgenerate_sample_list\u001b[0m\u001b[0;34m(\u001b[0m\u001b[0mbatch_name\u001b[0m\u001b[0;34m=\u001b[0m\u001b[0mbatch_name\u001b[0m\u001b[0;34m)\u001b[0m\u001b[0;34m\u001b[0m\u001b[0;34m\u001b[0m\u001b[0m\n\u001b[0m",
      "\u001b[0;31mTypeError\u001b[0m: generate_sample_list() missing 1 required positional argument: 'grid_size'"
     ]
    }
   ],
   "source": [
    "T=10\n",
    "rows=4\n",
    "cols=5\n",
    "N=10\n",
    "batch_name='Test1_'\n",
    "A= generate_adjacency_matrix(rows, cols)\n",
    "generate_migration_list(A, m=0.000001, batch_name=batch_name)\n",
    "generate_migration_list(A, m=1, batch_name=batch_name)\n",
    "test_data_T=generate_fixed_data(rows, cols, T, N, batch_name=batch_name)\n",
    "generate_ancestral_pop(rows, cols, batch_name=batch_name)\n",
    "generate_ancestral_pop_sizes(test_data_T, batch_name=batch_name)\n",
    "generate_sample_list(batch_name=batch_name)"
   ]
  },
  {
   "cell_type": "code",
   "execution_count": 7,
   "metadata": {},
   "outputs": [],
   "source": [
    "def generate_ancestral_pop_sizes(test_data_T=1, batch_name=''):\n",
    "    if type(test_data_T)==int:\n",
    "        anc_pop_size=1\n",
    "        f = open(batch_name+'anc_pop_size_1.tsv', 'w')\n",
    "        \n",
    "    else:\n",
    "        last_datapoint=test_data_T[-1]  #make this changable\n",
    "        anc_pop_size=sum(last_datapoint)\n",
    "        f = open(batch_name+'anc_pop_size_sum.tsv', 'w')\n",
    "    \n",
    "\n",
    "    f.write(str(anc_pop_size))\n",
    "    f.close()\n",
    "    #np.savetxt(batch_name+'anc_pop_size'+str(anc_pop_size)+'.tsv', str(anc_pop_size), fmt= '%i')  # this should be rewritten to count it. \n"
   ]
  },
  {
   "cell_type": "code",
   "execution_count": 10,
   "metadata": {},
   "outputs": [
    {
     "name": "stdout",
     "output_type": "stream",
     "text": [
      "<class 'numpy.ndarray'>\n"
     ]
    }
   ],
   "source": [
    "print (type(test_data_T))"
   ]
  },
  {
   "cell_type": "code",
   "execution_count": 25,
   "metadata": {},
   "outputs": [
    {
     "data": {
      "text/plain": [
       "-3.552713678800501e-15"
      ]
     },
     "execution_count": 25,
     "metadata": {},
     "output_type": "execute_result"
    }
   ],
   "source": [
    "10.1+10.2-20.3\n"
   ]
  },
  {
   "cell_type": "code",
   "execution_count": null,
   "metadata": {},
   "outputs": [],
   "source": []
  }
 ],
 "metadata": {
  "kernelspec": {
   "display_name": "Python 3",
   "language": "python",
   "name": "python3"
  },
  "language_info": {
   "codemirror_mode": {
    "name": "ipython",
    "version": 3
   },
   "file_extension": ".py",
   "mimetype": "text/x-python",
   "name": "python",
   "nbconvert_exporter": "python",
   "pygments_lexer": "ipython3",
   "version": "3.8.3"
  }
 },
 "nbformat": 4,
 "nbformat_minor": 2
}
