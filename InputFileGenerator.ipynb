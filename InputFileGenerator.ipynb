{
 "cells": [
  {
   "cell_type": "markdown",
   "metadata": {},
   "source": [
    "# Generating input files\n",
    "#### These files need to be generated for the main simulation. \n",
    "\n",
    "These functions serve to illustrate, how simple input files can be generated. The functions can be used all together to build a complete set of input files (e.g. when user wants to test various hypothesis on simple demographies), or individually to supply missing input files (e.g. when user already has demography data, but needs to build migration list). \n",
    "\n",
    "The main parameters to build a set of input files are: the number of rows and columns of the grid and the number of time points (T), average deme size N, and batch name to save the generated input files. All generated input files will use the batch name as prefix. \n",
    "\n",
    "### Demographic history\n",
    "\n",
    "\n",
    "This file contains demographic history of the simulated population. It contains T rows (T different time points) of deme sizes for each cell in the grid (rows x columns). Empty cells have deme size 0.\n",
    "\n",
    "Function *generate_final_map(rows, cols, N, map_type='homogenous')* can generate three types of final maps (demography in presence): homogeous, Poisson and uniform, with population sizes equal to N, or draws from Poisson or uniform distribution with mean N, respectively. Default map is homogenous. \n",
    "\n",
    "Function *generate_static(final_map, T, batch_name='')* generates demographis history with T identical rows (time points) as the final_map, saved into *batch_name+'lin_inc_N_'+str(N)+'.txt'*\n",
    "\n",
    "Function *generate_lin_increase_data(final_map, T, batch_name='')* generates demographic history of demes increasing linearly from 0 or 1 to the final map over T time points, saved into *batch_name+'lin_inc_N_'+str(N)+'.txt'*. \n",
    "\n",
    "\n",
    "### Migration list\n",
    "\n",
    "Function generate_migration_list(rows, cols, m=0.1, batch_name='') generates migration list for specified grid geometry, assuming that migration occurs between adjacent cells symmetrically (classic stepping stone model).  By default migration rate is specified to 0.1. \n",
    "\n",
    "The list is saved in *batch_name+'mig_list'+str(m)+'.txt'* and can be manually edited, if user wants to model more complex migration scenarios (e.g. migration barriers). \n",
    "\n",
    "\n",
    "### Sample list\n",
    "\n",
    "Function *generate_sample_list(rows, cols,s=0.5, batch_name='')* randomly samples fraction *s* of all cells without repetition (2 samples are taken from each sampled grid cell by gridCoal simulator), saving it to *batch_name+'sample_list.txt'*. Note that if the sampled cells are empty at the final time point, this results in an arror. User needs to manually edit the tst file to remove these sample numbers, accoridng to their own input demographic history data. \n",
    "\n",
    "If no sample list is specified for gridCoal, it automatically samples all non-zero cells.  \n",
    "\n",
    "\n",
    "\n",
    "\n",
    "### Ancestral population list\n",
    "Function *generate_ancestral_pop(rows, cols, batch_name='')* generates a vector with lengh n (grid size) of ones (all demes originating in a single population), saving it to 'batch_name_anc_pop.tsv'. \n",
    "\n"
   ]
  },
  {
   "cell_type": "code",
   "execution_count": 34,
   "metadata": {},
   "outputs": [],
   "source": [
    "import csv\n",
    "import numpy as np\n",
    "import timeit\n",
    "from pathlib import Path\n",
    "import random\n",
    "import os\n",
    "import matplotlib.pyplot as plt\n",
    "%matplotlib inline  "
   ]
  },
  {
   "cell_type": "code",
   "execution_count": 73,
   "metadata": {},
   "outputs": [
    {
     "name": "stdout",
     "output_type": "stream",
     "text": [
      "Directory  Examples/Static_PopulationMig001/  Created \n"
     ]
    }
   ],
   "source": [
    "rows = 15   #number of rows\n",
    "cols = 12   #number of columns\n",
    "T = 20 #number of time steps\n",
    "gt = 2  #generation time\n",
    "dt = 20 # time between defined time steps\n",
    "N = 100  #average population size\n",
    "mu = 0.001 #migration rate between neighbouring demes\n",
    "s = 0.5 # s is coverage - fraction of sampled grid cells. Note that using this function may include \n",
    "#some that are empty in the input data, which will cause error. Check before submitting for simulations. \n",
    "seed=10 #initialize random seed if you want\n",
    "dir_name='Examples/Static_PopulationMig001/'\n",
    "if not os.path.exists(dir_name):\n",
    "    os.mkdir(dir_name)\n",
    "    print(\"Directory \" , dir_name ,  \" Created \")\n",
    "batch_name =dir_name+ 'example_static_'  #prefix used for input data associated with this simulation"
   ]
  },
  {
   "cell_type": "code",
   "execution_count": 74,
   "metadata": {},
   "outputs": [],
   "source": [
    "def generate_final_map(rows, cols, N, map_type='homogenous'):\n",
    "    ## this function can generate 3 types of final map, with individual deme sizes drawn from uniform \n",
    "    ## or Poisson distribution, or homogenous map with equal sized demes. It also plots the map. \n",
    "    if map_type =='homogenous':\n",
    "        final_map=[N]*(cols*rows)  #identical deme sizes\n",
    "    elif map_type =='Poisson':\n",
    "        final_map=np.around(np.random.poisson(N,[rows*cols])) #data drawn from poisson distribution\n",
    "    elif map_type =='uniform':\n",
    "        final_map=np.around(np.random.uniform(0,2*N,[rows*cols]))  #data drawn from uniform distribution\n",
    "    else: \n",
    "        print ('Unknown type')\n",
    "    final_map_2D=np.reshape(final_map, [rows, cols])\n",
    "    plt.pcolor(final_map_2D)\n",
    "    plt.colorbar()\n",
    "    return (final_map)\n",
    "    \n",
    "def generate_lin_increase_data(final_map, T, batch_name=''):\n",
    "    ## this function generates linear increase from size 1 to the final map over T time points\n",
    "    demography_data=[]\n",
    "    for i in range (T):\n",
    "        this_timepoint=np.around((1.0+i)*final_map/T)\n",
    "        demography_data.append(this_timepoint)\n",
    "    demography_data=np.array(demography_data)\n",
    "    np.savetxt(batch_name+'lin_inc_N_'+str(N)+'.txt', demography_data,  fmt='%1d', delimiter='\\t')\n",
    "\n",
    "    return (demography_data.astype(int))  \n",
    "\n",
    "def generate_static(final_map, T, batch_name=''):\n",
    "    ## this function generates static demograhy for a final map over T time points\n",
    "    demography_data=[]\n",
    "    for i in range (T):\n",
    "        this_timepoint=final_map.copy()\n",
    "        demography_data.append(this_timepoint)\n",
    "    demography_data=np.array(demography_data)\n",
    "    np.savetxt(batch_name+'static_N_'+str(N)+'.txt', demography_data,  fmt='%1d', delimiter='\\t')\n",
    "\n",
    "    return (demography_data.astype(int))\n",
    "\n",
    "def generate_migration_list(rows, cols, m=0.1, batch_name=''):\n",
    "    n = rows*cols\n",
    "    add_mat = np.zeros([n,n])\n",
    "    for r in range(rows):\n",
    "        for c in range(cols):\n",
    "            i = r*cols + c\n",
    "            # Two inner diagonals\n",
    "            if c > 0: add_mat[i-1,i] = add_mat[i,i-1] = 1\n",
    "            # Two outer diagonals\n",
    "            if r > 0: add_mat[i-cols,i] = add_mat[i,i-cols] = 1\n",
    "    m_list=[]\n",
    "    for i in range(n):\n",
    "        for j in range (n):\n",
    "            if add_mat[i,j]==1:\n",
    "                m_list.append([int(i),int(j),m])\n",
    "    m_list=np.array(m_list) \n",
    "    np.savetxt(batch_name+'mig_list'+str(m)+'.txt', m_list, fmt= ['%i','%i','%4.2e'])\n",
    "    return m_list\n",
    " \n",
    "\n",
    "\n",
    "def generate_ancestral_pop(rows, cols, batch_name=''):\n",
    "    ancestral_pop=[]\n",
    "    for i in range(rows*cols):\n",
    "        ancestral_pop.append(1)\n",
    "    np.savetxt(batch_name+'anc_pop.txt', ancestral_pop, fmt= '%i')\n",
    "    return ancestral_pop\n",
    "\n",
    "def generate_ancestral_pop_sizes(test_data_T=1, batch_name=''):\n",
    "    if type(test_data_T)==int:\n",
    "        anc_pop_size=1\n",
    "        f = open(batch_name+'anc_pop_size_1.tsv', 'w')\n",
    "        \n",
    "    else:\n",
    "        last_datapoint=test_data_T[-1]  #make this changable\n",
    "        anc_pop_size=sum(last_datapoint)\n",
    "        f = open(batch_name+'anc_pop_size_sum.tsv', 'w')\n",
    "    \n",
    "\n",
    "    f.write(str(anc_pop_size))\n",
    "    f.close()\n"
   ]
  },
  {
   "cell_type": "code",
   "execution_count": 75,
   "metadata": {},
   "outputs": [],
   "source": [
    "def generate_sample_list(final_map,s=0.5, batch_name=''):\n",
    "    \n",
    "    grid_size=np.size(final_map)\n",
    "    samples=int(grid_size*s)\n",
    "    mr=range(0,grid_size,1)\n",
    "    sample_list= (random.sample(range(0,grid_size,1), samples))\n",
    "    sample_list.sort()\n",
    "    sample_list=remove_empty_cells(sample_list, final_map)\n",
    "    np.savetxt(batch_name+'sample_list.txt',sample_list,  fmt='%1d', delimiter='\\t')\n",
    "    return sample_list\n",
    "\n",
    "def remove_empty_cells(sample_list, final_map):\n",
    "    sample_list2=sample_list.copy()\n",
    "    for i in sample_list:      \n",
    "        #print ('in cell',i,'are', final_map[i], 'individuals')\n",
    "        if final_map[i]<1:\n",
    "            #print ('it is removed')\n",
    "            sample_list2.remove(i)\n",
    "    return sample_list2\n",
    "\n",
    "\n"
   ]
  },
  {
   "cell_type": "code",
   "execution_count": 76,
   "metadata": {},
   "outputs": [
    {
     "data": {
      "image/png": "[encoded data removed]",
      "text/plain": [
       "<Figure size 432x288 with 2 Axes>"
      ]
     },
     "metadata": {
      "needs_background": "light"
     },
     "output_type": "display_data"
    }
   ],
   "source": [
    "np.random.seed(seed)  #note that in jupyter notebook, random seed needs to be re-set in every cell where random function is called\n",
    "final_map = generate_final_map(rows, cols,N, 'Poisson')   #generate final map\n"
   ]
  },
  {
   "cell_type": "code",
   "execution_count": 77,
   "metadata": {},
   "outputs": [],
   "source": [
    "#my_demography=generate_lin_increase_data(final_map, T, batch_name)  #generate linear increasing pop sizes leading to final map\n",
    "my_demography=generate_static(final_map, T, batch_name)  #generate linear increasing pop sizes leading to final map"
   ]
  },
  {
   "cell_type": "code",
   "execution_count": 78,
   "metadata": {},
   "outputs": [],
   "source": [
    "np.random.seed(seed)\n",
    "mig_list= generate_migration_list(rows, cols, mu, batch_name)\n",
    "sample_list=generate_sample_list(final_map,s, batch_name)\n",
    "ancpop_list=generate_ancestral_pop(rows, cols, batch_name=batch_name )"
   ]
  },
  {
   "cell_type": "code",
   "execution_count": 79,
   "metadata": {},
   "outputs": [
    {
     "name": "stdout",
     "output_type": "stream",
     "text": [
      "Final map [108 104 100  90  89 110 107 117 101  96  98 103 104 110 116  84  86  77\n",
      " 101  90  96  94  95  97 110  97 111 103 101  74  83  95  94  95 114 114\n",
      " 103 103  94  94 102  99  95  94 102  81 109 102  96  94 105  78  85 114\n",
      "  91  85  99  88 104  92  91 117 102 102 102 102  88 106  98 100  84 102\n",
      "  90  94 107  97 111 109 103 103 108  99  99  89 112  99  86  84  82 102\n",
      " 105  96 110  97  97 111 100  91 128 113  90  99 110  93  96 112 102  96\n",
      " 100  94 109  90 102 103 110 110  93 120  93  99 105 112 119  86 108 104\n",
      " 101  97 115  97  83  94 103  79 106 110 108  83 101  90 109 101  95 110\n",
      "  88  79  88 103  94 101 102 103 100 100  97  95 103  91 116  84 108  83\n",
      " 109 101  93  99  98 107  99 103 107  81 102  93  96  97  92 105 112  98]\n",
      "Demography [[108 104 100 ... 105 112  98]\n",
      " [108 104 100 ... 105 112  98]\n",
      " [108 104 100 ... 105 112  98]\n",
      " ...\n",
      " [108 104 100 ... 105 112  98]\n",
      " [108 104 100 ... 105 112  98]\n",
      " [108 104 100 ... 105 112  98]]\n",
      "Migration list [[0.00e+00 1.00e+00 1.00e-03]\n",
      " [0.00e+00 1.20e+01 1.00e-03]\n",
      " [1.00e+00 0.00e+00 1.00e-03]\n",
      " ...\n",
      " [1.78e+02 1.79e+02 1.00e-03]\n",
      " [1.79e+02 1.67e+02 1.00e-03]\n",
      " [1.79e+02 1.78e+02 1.00e-03]]\n",
      "Sampled cells [2, 4, 5, 7, 8, 9, 11, 12, 15, 16, 18, 19, 26, 27, 28, 29, 32, 34, 35, 37, 38, 40, 41, 46, 49, 50, 51, 52, 56, 57, 58, 59, 62, 66, 68, 70, 76, 78, 79, 80, 82, 84, 85, 88, 90, 92, 93, 94, 95, 97, 100, 101, 102, 103, 105, 107, 108, 110, 112, 113, 115, 116, 119, 120, 124, 125, 127, 131, 132, 133, 134, 136, 140, 144, 145, 146, 147, 149, 152, 154, 155, 159, 162, 167, 169, 171, 174, 175, 176, 177]\n",
      "Ancestral populations [1, 1, 1, 1, 1, 1, 1, 1, 1, 1, 1, 1, 1, 1, 1, 1, 1, 1, 1, 1, 1, 1, 1, 1, 1, 1, 1, 1, 1, 1, 1, 1, 1, 1, 1, 1, 1, 1, 1, 1, 1, 1, 1, 1, 1, 1, 1, 1, 1, 1, 1, 1, 1, 1, 1, 1, 1, 1, 1, 1, 1, 1, 1, 1, 1, 1, 1, 1, 1, 1, 1, 1, 1, 1, 1, 1, 1, 1, 1, 1, 1, 1, 1, 1, 1, 1, 1, 1, 1, 1, 1, 1, 1, 1, 1, 1, 1, 1, 1, 1, 1, 1, 1, 1, 1, 1, 1, 1, 1, 1, 1, 1, 1, 1, 1, 1, 1, 1, 1, 1, 1, 1, 1, 1, 1, 1, 1, 1, 1, 1, 1, 1, 1, 1, 1, 1, 1, 1, 1, 1, 1, 1, 1, 1, 1, 1, 1, 1, 1, 1, 1, 1, 1, 1, 1, 1, 1, 1, 1, 1, 1, 1, 1, 1, 1, 1, 1, 1, 1, 1, 1, 1, 1, 1, 1, 1, 1, 1, 1, 1]\n"
     ]
    }
   ],
   "source": [
    "print ('Final map', final_map)\n",
    "print ('Demography', my_demography)\n",
    "print ('Migration list', mig_list)\n",
    "print ('Sampled cells', sample_list)\n",
    "print ('Ancestral populations', ancpop_list)\n"
   ]
  },
  {
   "cell_type": "code",
   "execution_count": null,
   "metadata": {},
   "outputs": [],
   "source": []
  },
  {
   "cell_type": "code",
   "execution_count": 72,
   "metadata": {},
   "outputs": [
    {
     "name": "stdout",
     "output_type": "stream",
     "text": [
      "(20, 180)\n"
     ]
    }
   ],
   "source": [
    "print (np.shape(my_demography))"
   ]
  },
  {
   "cell_type": "code",
   "execution_count": null,
   "metadata": {},
   "outputs": [],
   "source": []
  }
 ],
 "metadata": {
  "kernelspec": {
   "display_name": "Python 3",
   "language": "python",
   "name": "python3"
  },
  "language_info": {
   "codemirror_mode": {
    "name": "ipython",
    "version": 3
   },
   "file_extension": ".py",
   "mimetype": "text/x-python",
   "name": "python",
   "nbconvert_exporter": "python",
   "pygments_lexer": "ipython3",
   "version": "3.8.3"
  }
 },
 "nbformat": 4,
 "nbformat_minor": 2
}
