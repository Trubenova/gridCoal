{
 "cells": [
  {
   "cell_type": "code",
   "execution_count": 5,
   "metadata": {},
   "outputs": [],
   "source": [
    "time_files='OUTPUT/OUTPUTCoalTimes'\n",
    "demography_file='Examples/example_simple_exp_lin_inc_N_10.txt'\n",
    "sample_file='Examples/example_simple_exp_sample_list.txt'\n",
    "rows=5\n",
    "file_number=100\n"
   ]
  },
  {
   "cell_type": "code",
   "execution_count": 2,
   "metadata": {},
   "outputs": [],
   "source": [
    "import numpy as np\n",
    "from pathlib import Path\n",
    "import matplotlib.pyplot as plt\n",
    "%matplotlib inline  \n",
    "\n",
    "def get_mean_times(file_name, n):  #it can take some time\n",
    "    \n",
    "    this_data=np.loadtxt(file_name+'1.txt')\n",
    "    dimension=np.size(this_data,0)\n",
    "    all_data=np.zeros([dimension,dimension])\n",
    "    file_count=0\n",
    "    for i in range(1,n+1):\n",
    "        this_file_name=(file_name+str(i)+'.txt')\n",
    "        my_file = Path(this_file_name)\n",
    "        if my_file.exists():\n",
    "            file_count=file_count+1\n",
    "            this_file_data=np.loadtxt(this_file_name)\n",
    "            all_data=all_data+this_file_data\n",
    "        else:\n",
    "            print ('The file', this_file_name, ' does not exists for ', i)\n",
    "    \n",
    "    mean_data=all_data/(file_count+0.0)\n",
    "    np.savetxt(file_name+'MEAN.txt', mean_data)\n",
    "    return mean_data\n",
    "\n",
    "def get_mean_partial_times(mean_coal_times):\n",
    "    sample_num=np.shape(mean_coal_times)\n",
    "    sample_num=sample_num[0]\n",
    "\n",
    "    mean_total_time=(np.sum(mean_coal_times)+np.sum(mean_coal_times.diagonal()))/(sample_num*(sample_num+1))\n",
    "    mean_within=np.mean(mean_coal_times.diagonal())\n",
    "    mean_between=(np.sum(mean_coal_times)-np.sum(mean_coal_times.diagonal()))/(sample_num*(sample_num-1))\n",
    "    print ('mean total', mean_total_time)\n",
    "    print ('mean within', mean_within)\n",
    "    print ('mean between', mean_between)\n",
    "    return(mean_total_time, mean_within, mean_between)\n",
    "\n",
    "\n",
    "def plot_within_ctime(my_samples, cols, rows, mean_coal_times):\n",
    "    ## this function plots within-deme coalescence time that can serve as a proxy for diversity\n",
    "    \n",
    "    ctime_map=np.zeros([cols*rows])\n",
    "    for i in range (len(my_samples)):\n",
    "        ctime_map[(my_samples[i])]=mean_coal_times[i,i]\n",
    "    \n",
    "    ctime_map_2D=np.reshape(ctime_map,[rows, int(map_size/rows)])\n",
    "    plt.pcolor(ctime_map_2D, cmap='hot')\n",
    "    plt.colorbar()\n",
    "    plt.title('Mean within deme coalescence time')\n",
    "    plt.show()\n",
    "    \n",
    "\n",
    "def calculate_fst(total_time, within_time):\n",
    "    Fst=(total_time-within_time)/total_time\n",
    "    return(Fst)\n",
    "\n",
    "def calc_distance_matrix(rows, cols):\n",
    "    distance_matrix=np.zeros([rows*cols, rows*cols])\n",
    "    for i in range(rows*cols):\n",
    "        for j in range(i, rows*cols):\n",
    "            distance_matrix[i,j]=(abs(j//cols-i//cols) + abs(i%cols-j%cols))\n",
    "            distance_matrix[j,i]=(abs(j//cols-i//cols) + abs(i%cols-j%cols))\n",
    "    return(distance_matrix)\n",
    "    \n",
    "def make_ibd_plots(samples, mean_coal_times, rows, cols):\n",
    "    distance_matrix=calc_distance_matrix(rows, cols)\n",
    "    dist_classes = [[] for i in range (rows+cols)]    \n",
    "    for i in range(len(samples)):\n",
    "        for j in range(i, len(samples)):\n",
    "            this_dist=int(distance_matrix[int(samples[i]), int(samples[j])])\n",
    "            dist_classes[this_dist].append(mean_coal_times[i,j])\n",
    "    plt.boxplot(dist_classes, showmeans=True)\n",
    "    plt.xlabel('manhattan distance')\n",
    "    plt.ylabel('coalescence time')\n",
    "    plt.title('Isolation by distance')\n",
    "    plt.show()\n",
    "    box_means = [np.mean(x) for x in dist_classes]\n",
    "\n",
    "    return(box_means)\n",
    "    "
   ]
  },
  {
   "cell_type": "code",
   "execution_count": 3,
   "metadata": {},
   "outputs": [],
   "source": [
    "my_demography=np.loadtxt(demography_file)\n",
    "my_samples=np.loadtxt(sample_file) \n",
    "my_samples=my_samples.astype(int)\n",
    "mean_coal_times=get_mean_times(time_files, file_number)\n"
   ]
  },
  {
   "cell_type": "code",
   "execution_count": 4,
   "metadata": {},
   "outputs": [
    {
     "name": "stdout",
     "output_type": "stream",
     "text": [
      "mean total 84.66895966582533\n",
      "mean within 74.86060226933907\n",
      "mean between 86.84859464282226\n"
     ]
    },
    {
     "data": {
      "image/png": "[encoded data removed]",
      "text/plain": [
       "<Figure size 432x288 with 2 Axes>"
      ]
     },
     "metadata": {
      "needs_background": "light"
     },
     "output_type": "display_data"
    },
    {
     "name": "stderr",
     "output_type": "stream",
     "text": [
      "/Users/barbora/miniconda3/lib/python3.8/site-packages/numpy/core/_asarray.py:83: VisibleDeprecationWarning: Creating an ndarray from ragged nested sequences (which is a list-or-tuple of lists-or-tuples-or ndarrays with different lengths or shapes) is deprecated. If you meant to do this, you must specify 'dtype=object' when creating the ndarray\n",
      "  return array(a, dtype, copy=False, order=order)\n"
     ]
    },
    {
     "data": {
      "image/png": "[encoded data removed]",
      "text/plain": [
       "<Figure size 432x288 with 1 Axes>"
      ]
     },
     "metadata": {
      "needs_background": "light"
     },
     "output_type": "display_data"
    },
    {
     "name": "stdout",
     "output_type": "stream",
     "text": [
      "Mean total coalescence time 84.66895966582533\n",
      "Mean within deme coalescence time 74.86060226933907\n",
      "Mean between deme coalescence time 86.84859464282226\n",
      "Fst 0.11584360354961554\n",
      "Mean times in distance classes [74.86060226933907, 82.79806162245762, 85.86138468776612, 87.75800177050755, 89.39742915310505, 90.95702761607532, 93.28196505501484, nan, nan]\n"
     ]
    },
    {
     "name": "stderr",
     "output_type": "stream",
     "text": [
      "/Users/barbora/miniconda3/lib/python3.8/site-packages/numpy/core/fromnumeric.py:3372: RuntimeWarning: Mean of empty slice.\n",
      "  return _methods._mean(a, axis=axis, dtype=dtype,\n",
      "/Users/barbora/miniconda3/lib/python3.8/site-packages/numpy/core/_methods.py:170: RuntimeWarning: invalid value encountered in double_scalars\n",
      "  ret = ret.dtype.type(ret / rcount)\n"
     ]
    }
   ],
   "source": [
    "[T,map_size]=np.shape(my_demography)\n",
    "cols=int(map_size/rows)\n",
    "\n",
    "\n",
    "[mean_total, mean_within, mean_between] = get_mean_partial_times(mean_coal_times) \n",
    "my_fst=calculate_fst(mean_total, mean_within)\n",
    "plot_within_ctime(my_samples,cols, rows, mean_coal_times)\n",
    "box_means=make_ibd_plots(my_samples, mean_coal_times, rows, cols)\n",
    "\n",
    "print ('Mean total coalescence time', mean_total)\n",
    "print ('Mean within deme coalescence time', mean_within)\n",
    "print ('Mean between deme coalescence time', mean_between)\n",
    "print ('Fst', my_fst)\n",
    "print ('Mean times in distance classes', box_means)\n"
   ]
  },
  {
   "cell_type": "code",
   "execution_count": null,
   "metadata": {},
   "outputs": [],
   "source": [
    "\n"
   ]
  }
 ],
 "metadata": {
  "kernelspec": {
   "display_name": "Python 3",
   "language": "python",
   "name": "python3"
  },
  "language_info": {
   "codemirror_mode": {
    "name": "ipython",
    "version": 3
   },
   "file_extension": ".py",
   "mimetype": "text/x-python",
   "name": "python",
   "nbconvert_exporter": "python",
   "pygments_lexer": "ipython3",
   "version": "3.8.3"
  }
 },
 "nbformat": 4,
 "nbformat_minor": 4
}
