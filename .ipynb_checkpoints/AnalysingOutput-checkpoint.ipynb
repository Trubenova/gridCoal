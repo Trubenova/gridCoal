{
 "cells": [
  {
   "cell_type": "code",
   "execution_count": 3,
   "metadata": {},
   "outputs": [],
   "source": [
    "import csv\n",
    "import numpy as np\n",
    "import timeit\n",
    "from pathlib import Path\n",
    "import matplotlib.pyplot as plt\n",
    "from scipy.stats import spearmanr\n",
    "from matplotlib.colors import LogNorm\n",
    "%matplotlib inline  "
   ]
  },
  {
   "cell_type": "code",
   "execution_count": 1,
   "metadata": {},
   "outputs": [],
   "source": [
    "def calculate_fst(T):\n",
    "    Fst=T+1\n",
    "    return(Fst)"
   ]
  },
  {
   "cell_type": "code",
   "execution_count": null,
   "metadata": {},
   "outputs": [],
   "source": [
    "def get_mean_times(file_name, N):  #it can take some time\n",
    "    \n",
    "    this_data=np.loadtxt(file_name+'1.txt')\n",
    "    dimension=np.size(this_data,0)\n",
    "    all_data=np.zeros([dimension,dimension])\n",
    "    file_count=0\n",
    "    for i in range(1,N+1):\n",
    "        this_file_name=(file_name+str(i)+'.txt')\n",
    "        my_file = Path(this_file_name)\n",
    "        if my_file.exists():\n",
    "            file_count=file_count+1\n",
    "            this_file_data=np.loadtxt(this_file_name)\n",
    "            all_data=all_data+this_file_data\n",
    "        else:\n",
    "            print ('The file', this_file_name', does not exists for ', i)\n",
    "    \n",
    "    mean_data=all_data/(file_count+0.0)\n",
    "    np.savetxt(file_name+'MEAN.txt', mean_data)\n",
    "    return mean_data\n"
   ]
  }
 ],
 "metadata": {
  "kernelspec": {
   "display_name": "Python 3",
   "language": "python",
   "name": "python3"
  },
  "language_info": {
   "codemirror_mode": {
    "name": "ipython",
    "version": 3
   },
   "file_extension": ".py",
   "mimetype": "text/x-python",
   "name": "python",
   "nbconvert_exporter": "python",
   "pygments_lexer": "ipython3",
   "version": "3.8.3"
  }
 },
 "nbformat": 4,
 "nbformat_minor": 4
}
