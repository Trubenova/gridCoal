{
 "cells": [
  {
   "cell_type": "markdown",
   "metadata": {},
   "source": [
    "# Analysing output files\n",
    "#### These files need to be generated for the main simulation. \n",
    "\n",
    "This part of the tutorial guides the users how to calculate global Fst and F* (our notation for a pairwise divergence statistic) from the outputs, which are within and between deme coalescence times.\n",
    "\n"
   ]
  },
  {
   "cell_type": "code",
   "execution_count": 1,
   "metadata": {},
   "outputs": [],
   "source": [
    "time_files='Examples/StaticPopulattionsMig0/OUTPUT_DIR/CoalTimes'\n",
    "demography_file='Examples/StaticPopulattionsMig0/example_static_static_N_0.23529.txt'\n",
    "sample_file='Examples/StaticPopulattionsMig0/example_static_sample_list.txt'\n",
    "rows=10  # specify the number of rows that were used to run the simulation\n",
    "file_number=10 # specify the number of output files that you want to analyse. Files from 0 to the specified number will be analyzed. \n",
    "\n",
    "\n"
   ]
  },
  {
   "cell_type": "code",
   "execution_count": 2,
   "metadata": {},
   "outputs": [],
   "source": [
    "import numpy as np\n",
    "from pathlib import Path\n",
    "import matplotlib.pyplot as plt\n",
    "%matplotlib inline  \n",
    "import warnings\n",
    "warnings.filterwarnings(\"ignore\", category=np.VisibleDeprecationWarning) \n",
    "warnings.filterwarnings(\"ignore\", category=RuntimeWarning) \n",
    "\n",
    "def get_mean_times(file_name, n):  #it can take some time\n",
    "    \n",
    "    this_data=np.loadtxt(file_name+'1.txt')\n",
    "    dimension=np.size(this_data,0)\n",
    "    all_data=np.zeros([dimension,dimension])\n",
    "    file_count=0\n",
    "    for i in range(1,n+1):\n",
    "        this_file_name=(file_name+str(i)+'.txt')\n",
    "        my_file = Path(this_file_name)\n",
    "        if my_file.exists():\n",
    "            file_count=file_count+1\n",
    "            this_file_data=np.loadtxt(this_file_name)\n",
    "            all_data=all_data+this_file_data\n",
    "        else:\n",
    "            print ('The file', this_file_name, ' does not exists for ', i)\n",
    "    \n",
    "    mean_data=all_data/(file_count+0.0)\n",
    "    np.savetxt(file_name+'MEAN.txt', mean_data)\n",
    "    return mean_data\n",
    "\n",
    "def get_mean_partial_times(mean_coal_times):\n",
    "    sample_num=np.shape(mean_coal_times)\n",
    "    sample_num=sample_num[0]\n",
    "\n",
    "    mean_total_time=(np.sum(mean_coal_times)+np.sum(mean_coal_times.diagonal()))/(sample_num*(sample_num+1))\n",
    "    mean_within=np.mean(mean_coal_times.diagonal())\n",
    "    mean_between=(np.sum(mean_coal_times)-np.sum(mean_coal_times.diagonal()))/(sample_num*(sample_num-1))\n",
    "    print ('mean total', mean_total_time)\n",
    "    print ('mean within', mean_within)\n",
    "    print ('mean between', mean_between)\n",
    "    return(mean_total_time, mean_within, mean_between)\n",
    "\n",
    "\n",
    "def plot_within_ctime(my_samples, cols, rows, mean_coal_times):\n",
    "    ## this function plots within-deme coalescence time that can serve as a proxy for diversity\n",
    "    \n",
    "    ctime_map=np.zeros([cols*rows])\n",
    "    for i in range (len(my_samples)):\n",
    "        ctime_map[(my_samples[i])]=mean_coal_times[i,i]\n",
    "    \n",
    "    ctime_map_2D=np.reshape(ctime_map,[rows, int(map_size/rows)])\n",
    "    plt.pcolor(ctime_map_2D, cmap='hot')\n",
    "    print (ctime_map_2D)\n",
    "    plt.colorbar()\n",
    "    plt.title('Mean within deme coalescence time')\n",
    "    plt.show()\n",
    "    \n",
    "\n",
    "def calculate_fst(total_time, within_time):\n",
    "    Fst=(total_time-within_time)/total_time\n",
    "    return(Fst)\n",
    "\n",
    "def calc_distance_matrix(rows, cols):\n",
    "    distance_matrix=np.zeros([rows*cols, rows*cols])\n",
    "    for i in range(rows*cols):\n",
    "        for j in range(i, rows*cols):\n",
    "            distance_matrix[i,j]=(abs(j//cols-i//cols) + abs(i%cols-j%cols))\n",
    "            distance_matrix[j,i]=(abs(j//cols-i//cols) + abs(i%cols-j%cols))\n",
    "    return(distance_matrix)\n",
    "    \n",
    "def make_ibd_plots(samples, mean_coal_times, rows, cols):\n",
    "    distance_matrix=calc_distance_matrix(rows, cols)\n",
    "    dist_classes = [[] for i in range (rows+cols)]    \n",
    "    for i in range(len(samples)):\n",
    "        for j in range(i, len(samples)):\n",
    "            this_dist=int(distance_matrix[int(samples[i]), int(samples[j])])\n",
    "            dist_classes[this_dist].append(mean_coal_times[i,j])\n",
    "    plt.boxplot(dist_classes, showmeans=True)\n",
    "    plt.xlabel('manhattan distance')\n",
    "    plt.ylabel('coalescence time')\n",
    "    plt.title('Isolation by distance')\n",
    "    plt.show()\n",
    "    box_means = [np.mean(x) for x in dist_classes]\n",
    "\n",
    "    return(box_means)\n",
    "    "
   ]
  },
  {
   "cell_type": "code",
   "execution_count": 3,
   "metadata": {},
   "outputs": [
    {
     "ename": "OSError",
     "evalue": "Examples/Splatche1/OUTPUT_DIR/CoalTimes1.txt not found.",
     "output_type": "error",
     "traceback": [
      "\u001b[0;31m---------------------------------------------------------------------------\u001b[0m",
      "\u001b[0;31mOSError\u001b[0m                                   Traceback (most recent call last)",
      "\u001b[0;32m<ipython-input-3-af9075ee032c>\u001b[0m in \u001b[0;36m<module>\u001b[0;34m\u001b[0m\n\u001b[1;32m      2\u001b[0m \u001b[0mmy_samples\u001b[0m\u001b[0;34m=\u001b[0m\u001b[0mnp\u001b[0m\u001b[0;34m.\u001b[0m\u001b[0mloadtxt\u001b[0m\u001b[0;34m(\u001b[0m\u001b[0msample_file\u001b[0m\u001b[0;34m)\u001b[0m\u001b[0;34m\u001b[0m\u001b[0;34m\u001b[0m\u001b[0m\n\u001b[1;32m      3\u001b[0m \u001b[0mmy_samples\u001b[0m\u001b[0;34m=\u001b[0m\u001b[0mmy_samples\u001b[0m\u001b[0;34m.\u001b[0m\u001b[0mastype\u001b[0m\u001b[0;34m(\u001b[0m\u001b[0mint\u001b[0m\u001b[0;34m)\u001b[0m\u001b[0;34m\u001b[0m\u001b[0;34m\u001b[0m\u001b[0m\n\u001b[0;32m----> 4\u001b[0;31m \u001b[0mmean_coal_times\u001b[0m\u001b[0;34m=\u001b[0m\u001b[0mget_mean_times\u001b[0m\u001b[0;34m(\u001b[0m\u001b[0mtime_files\u001b[0m\u001b[0;34m,\u001b[0m \u001b[0mfile_number\u001b[0m\u001b[0;34m)\u001b[0m\u001b[0;34m\u001b[0m\u001b[0;34m\u001b[0m\u001b[0m\n\u001b[0m",
      "\u001b[0;32m<ipython-input-2-f641f852140d>\u001b[0m in \u001b[0;36mget_mean_times\u001b[0;34m(file_name, n)\u001b[0m\n\u001b[1;32m      9\u001b[0m \u001b[0;32mdef\u001b[0m \u001b[0mget_mean_times\u001b[0m\u001b[0;34m(\u001b[0m\u001b[0mfile_name\u001b[0m\u001b[0;34m,\u001b[0m \u001b[0mn\u001b[0m\u001b[0;34m)\u001b[0m\u001b[0;34m:\u001b[0m  \u001b[0;31m#it can take some time\u001b[0m\u001b[0;34m\u001b[0m\u001b[0;34m\u001b[0m\u001b[0m\n\u001b[1;32m     10\u001b[0m \u001b[0;34m\u001b[0m\u001b[0m\n\u001b[0;32m---> 11\u001b[0;31m     \u001b[0mthis_data\u001b[0m\u001b[0;34m=\u001b[0m\u001b[0mnp\u001b[0m\u001b[0;34m.\u001b[0m\u001b[0mloadtxt\u001b[0m\u001b[0;34m(\u001b[0m\u001b[0mfile_name\u001b[0m\u001b[0;34m+\u001b[0m\u001b[0;34m'1.txt'\u001b[0m\u001b[0;34m)\u001b[0m\u001b[0;34m\u001b[0m\u001b[0;34m\u001b[0m\u001b[0m\n\u001b[0m\u001b[1;32m     12\u001b[0m     \u001b[0mdimension\u001b[0m\u001b[0;34m=\u001b[0m\u001b[0mnp\u001b[0m\u001b[0;34m.\u001b[0m\u001b[0msize\u001b[0m\u001b[0;34m(\u001b[0m\u001b[0mthis_data\u001b[0m\u001b[0;34m,\u001b[0m\u001b[0;36m0\u001b[0m\u001b[0;34m)\u001b[0m\u001b[0;34m\u001b[0m\u001b[0;34m\u001b[0m\u001b[0m\n\u001b[1;32m     13\u001b[0m     \u001b[0mall_data\u001b[0m\u001b[0;34m=\u001b[0m\u001b[0mnp\u001b[0m\u001b[0;34m.\u001b[0m\u001b[0mzeros\u001b[0m\u001b[0;34m(\u001b[0m\u001b[0;34m[\u001b[0m\u001b[0mdimension\u001b[0m\u001b[0;34m,\u001b[0m\u001b[0mdimension\u001b[0m\u001b[0;34m]\u001b[0m\u001b[0;34m)\u001b[0m\u001b[0;34m\u001b[0m\u001b[0;34m\u001b[0m\u001b[0m\n",
      "\u001b[0;32m~/miniconda3/lib/python3.8/site-packages/numpy/lib/npyio.py\u001b[0m in \u001b[0;36mloadtxt\u001b[0;34m(fname, dtype, comments, delimiter, converters, skiprows, usecols, unpack, ndmin, encoding, max_rows)\u001b[0m\n\u001b[1;32m    959\u001b[0m             \u001b[0mfname\u001b[0m \u001b[0;34m=\u001b[0m \u001b[0mos_fspath\u001b[0m\u001b[0;34m(\u001b[0m\u001b[0mfname\u001b[0m\u001b[0;34m)\u001b[0m\u001b[0;34m\u001b[0m\u001b[0;34m\u001b[0m\u001b[0m\n\u001b[1;32m    960\u001b[0m         \u001b[0;32mif\u001b[0m \u001b[0m_is_string_like\u001b[0m\u001b[0;34m(\u001b[0m\u001b[0mfname\u001b[0m\u001b[0;34m)\u001b[0m\u001b[0;34m:\u001b[0m\u001b[0;34m\u001b[0m\u001b[0;34m\u001b[0m\u001b[0m\n\u001b[0;32m--> 961\u001b[0;31m             \u001b[0mfh\u001b[0m \u001b[0;34m=\u001b[0m \u001b[0mnp\u001b[0m\u001b[0;34m.\u001b[0m\u001b[0mlib\u001b[0m\u001b[0;34m.\u001b[0m\u001b[0m_datasource\u001b[0m\u001b[0;34m.\u001b[0m\u001b[0mopen\u001b[0m\u001b[0;34m(\u001b[0m\u001b[0mfname\u001b[0m\u001b[0;34m,\u001b[0m \u001b[0;34m'rt'\u001b[0m\u001b[0;34m,\u001b[0m \u001b[0mencoding\u001b[0m\u001b[0;34m=\u001b[0m\u001b[0mencoding\u001b[0m\u001b[0;34m)\u001b[0m\u001b[0;34m\u001b[0m\u001b[0;34m\u001b[0m\u001b[0m\n\u001b[0m\u001b[1;32m    962\u001b[0m             \u001b[0mfencoding\u001b[0m \u001b[0;34m=\u001b[0m \u001b[0mgetattr\u001b[0m\u001b[0;34m(\u001b[0m\u001b[0mfh\u001b[0m\u001b[0;34m,\u001b[0m \u001b[0;34m'encoding'\u001b[0m\u001b[0;34m,\u001b[0m \u001b[0;34m'latin1'\u001b[0m\u001b[0;34m)\u001b[0m\u001b[0;34m\u001b[0m\u001b[0;34m\u001b[0m\u001b[0m\n\u001b[1;32m    963\u001b[0m             \u001b[0mfh\u001b[0m \u001b[0;34m=\u001b[0m \u001b[0miter\u001b[0m\u001b[0;34m(\u001b[0m\u001b[0mfh\u001b[0m\u001b[0;34m)\u001b[0m\u001b[0;34m\u001b[0m\u001b[0;34m\u001b[0m\u001b[0m\n",
      "\u001b[0;32m~/miniconda3/lib/python3.8/site-packages/numpy/lib/_datasource.py\u001b[0m in \u001b[0;36mopen\u001b[0;34m(path, mode, destpath, encoding, newline)\u001b[0m\n\u001b[1;32m    193\u001b[0m \u001b[0;34m\u001b[0m\u001b[0m\n\u001b[1;32m    194\u001b[0m     \u001b[0mds\u001b[0m \u001b[0;34m=\u001b[0m \u001b[0mDataSource\u001b[0m\u001b[0;34m(\u001b[0m\u001b[0mdestpath\u001b[0m\u001b[0;34m)\u001b[0m\u001b[0;34m\u001b[0m\u001b[0;34m\u001b[0m\u001b[0m\n\u001b[0;32m--> 195\u001b[0;31m     \u001b[0;32mreturn\u001b[0m \u001b[0mds\u001b[0m\u001b[0;34m.\u001b[0m\u001b[0mopen\u001b[0m\u001b[0;34m(\u001b[0m\u001b[0mpath\u001b[0m\u001b[0;34m,\u001b[0m \u001b[0mmode\u001b[0m\u001b[0;34m,\u001b[0m \u001b[0mencoding\u001b[0m\u001b[0;34m=\u001b[0m\u001b[0mencoding\u001b[0m\u001b[0;34m,\u001b[0m \u001b[0mnewline\u001b[0m\u001b[0;34m=\u001b[0m\u001b[0mnewline\u001b[0m\u001b[0;34m)\u001b[0m\u001b[0;34m\u001b[0m\u001b[0;34m\u001b[0m\u001b[0m\n\u001b[0m\u001b[1;32m    196\u001b[0m \u001b[0;34m\u001b[0m\u001b[0m\n\u001b[1;32m    197\u001b[0m \u001b[0;34m\u001b[0m\u001b[0m\n",
      "\u001b[0;32m~/miniconda3/lib/python3.8/site-packages/numpy/lib/_datasource.py\u001b[0m in \u001b[0;36mopen\u001b[0;34m(self, path, mode, encoding, newline)\u001b[0m\n\u001b[1;32m    533\u001b[0m                                       encoding=encoding, newline=newline)\n\u001b[1;32m    534\u001b[0m         \u001b[0;32melse\u001b[0m\u001b[0;34m:\u001b[0m\u001b[0;34m\u001b[0m\u001b[0;34m\u001b[0m\u001b[0m\n\u001b[0;32m--> 535\u001b[0;31m             \u001b[0;32mraise\u001b[0m \u001b[0mIOError\u001b[0m\u001b[0;34m(\u001b[0m\u001b[0;34m\"%s not found.\"\u001b[0m \u001b[0;34m%\u001b[0m \u001b[0mpath\u001b[0m\u001b[0;34m)\u001b[0m\u001b[0;34m\u001b[0m\u001b[0;34m\u001b[0m\u001b[0m\n\u001b[0m\u001b[1;32m    536\u001b[0m \u001b[0;34m\u001b[0m\u001b[0m\n\u001b[1;32m    537\u001b[0m \u001b[0;34m\u001b[0m\u001b[0m\n",
      "\u001b[0;31mOSError\u001b[0m: Examples/Splatche1/OUTPUT_DIR/CoalTimes1.txt not found."
     ]
    }
   ],
   "source": [
    "my_demography=np.loadtxt(demography_file)\n",
    "my_samples=np.loadtxt(sample_file) \n",
    "my_samples=my_samples.astype(int)\n",
    "mean_coal_times=get_mean_times(time_files, file_number)\n"
   ]
  },
  {
   "cell_type": "code",
   "execution_count": 59,
   "metadata": {},
   "outputs": [
    {
     "data": {
      "image/png": "[encoded data removed]",
      "text/plain": [
       "<Figure size 432x288 with 2 Axes>"
      ]
     },
     "metadata": {
      "needs_background": "light"
     },
     "output_type": "display_data"
    },
    {
     "name": "stdout",
     "output_type": "stream",
     "text": [
      "mean total 101.66386269382363\n",
      "mean within 99.53810560810398\n",
      "mean between 101.7728758777067\n",
      "101.66386269382363 99.53810560810398 101.7728758777067\n",
      "[[0.00000000e+00 1.03381254e+02 1.03381254e+02 0.00000000e+00\n",
      "  1.00323720e+02 1.02308668e+02 0.00000000e+00 2.67667037e-02]\n",
      " [0.00000000e+00 1.00263221e+02 1.03381254e+02 0.00000000e+00\n",
      "  0.00000000e+00 0.00000000e+00 0.00000000e+00 1.03381254e+02]\n",
      " [0.00000000e+00 0.00000000e+00 1.03381254e+02 1.03381254e+02\n",
      "  1.03381254e+02 0.00000000e+00 0.00000000e+00 0.00000000e+00]\n",
      " [1.00547847e+02 1.00547847e+02 0.00000000e+00 1.00043471e+02\n",
      "  1.00797477e+02 1.00466928e+02 0.00000000e+00 1.03381254e+02]\n",
      " [1.03381254e+02 0.00000000e+00 1.03381254e+02 1.03381254e+02\n",
      "  0.00000000e+00 1.02308668e+02 0.00000000e+00 0.00000000e+00]\n",
      " [0.00000000e+00 1.03381254e+02 1.00323720e+02 0.00000000e+00\n",
      "  1.00087789e+02 0.00000000e+00 0.00000000e+00 1.03381254e+02]\n",
      " [0.00000000e+00 0.00000000e+00 0.00000000e+00 0.00000000e+00\n",
      "  1.02308668e+02 1.03381254e+02 1.03381254e+02 1.00225515e+02]\n",
      " [0.00000000e+00 1.02308668e+02 0.00000000e+00 1.03381254e+02\n",
      "  0.00000000e+00 0.00000000e+00 0.00000000e+00 0.00000000e+00]\n",
      " [1.00466928e+02 1.03381254e+02 1.03381254e+02 0.00000000e+00\n",
      "  0.00000000e+00 0.00000000e+00 1.03381254e+02 1.00323720e+02]\n",
      " [1.00695769e+02 0.00000000e+00 1.00129410e+02 1.00466928e+02\n",
      "  0.00000000e+00 1.02308668e+02 0.00000000e+00 0.00000000e+00]]\n"
     ]
    },
    {
     "data": {
      "image/png": "[encoded data removed]",
      "text/plain": [
       "<Figure size 432x288 with 2 Axes>"
      ]
     },
     "metadata": {
      "needs_background": "light"
     },
     "output_type": "display_data"
    },
    {
     "data": {
      "image/png": "[encoded data removed]",
      "text/plain": [
       "<Figure size 432x288 with 1 Axes>"
      ]
     },
     "metadata": {
      "needs_background": "light"
     },
     "output_type": "display_data"
    },
    {
     "name": "stdout",
     "output_type": "stream",
     "text": [
      "Mean total coalescence time 101.66386269382363\n",
      "Mean within deme coalescence time 99.53810560810398\n",
      "Mean between deme coalescence time 101.7728758777067\n",
      "Fst 0.020909662778815518\n",
      "Mean times in distance classes [99.53810560810398, 101.44915249158144, 101.56923615694592, 101.64135764478512, 101.33474255988423, 101.98800391829145, 101.79501377345773, 101.52908105538157, 102.06227418253383, 102.0269618979719, 102.19138298746691, 101.85931229489428, 101.96928135010864, 102.2140622932343, 102.05306114125715, 102.14498460216825, 102.30866796702368, nan]\n"
     ]
    }
   ],
   "source": [
    "[T,map_size]=np.shape(my_demography)\n",
    "cols=int(map_size/rows)\n",
    "\n",
    "final_map_2D=np.reshape(my_demography[-1,:], [rows, cols])\n",
    "plt.pcolor(final_map_2D)\n",
    "plt.colorbar()\n",
    "plt.show()\n",
    "\n",
    "[mean_total, mean_within, mean_between] = get_mean_partial_times(mean_coal_times) \n",
    "print (mean_total, mean_within, mean_between)\n",
    "my_fst=calculate_fst(mean_total, mean_within)\n",
    "plot_within_ctime(my_samples,cols, rows, mean_coal_times)\n",
    "box_means=make_ibd_plots(my_samples, mean_coal_times, rows, cols)\n",
    "\n",
    "print ('Mean total coalescence time', mean_total)\n",
    "print ('Mean within deme coalescence time', mean_within)\n",
    "print ('Mean between deme coalescence time', mean_between)\n",
    "print ('Fst', my_fst)\n",
    "print ('Mean times in distance classes', box_means)\n"
   ]
  },
  {
   "cell_type": "code",
   "execution_count": null,
   "metadata": {},
   "outputs": [],
   "source": [
    "\n"
   ]
  },
  {
   "cell_type": "code",
   "execution_count": null,
   "metadata": {},
   "outputs": [],
   "source": []
  },
  {
   "cell_type": "code",
   "execution_count": null,
   "metadata": {},
   "outputs": [],
   "source": []
  }
 ],
 "metadata": {
  "kernelspec": {
   "display_name": "Python 3",
   "language": "python",
   "name": "python3"
  },
  "language_info": {
   "codemirror_mode": {
    "name": "ipython",
    "version": 3
   },
   "file_extension": ".py",
   "mimetype": "text/x-python",
   "name": "python",
   "nbconvert_exporter": "python",
   "pygments_lexer": "ipython3",
   "version": "3.8.3"
  }
 },
 "nbformat": 4,
 "nbformat_minor": 4
}
