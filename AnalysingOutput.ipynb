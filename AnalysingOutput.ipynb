{
 "cells": [
  {
   "cell_type": "code",
   "execution_count": 2,
   "metadata": {},
   "outputs": [],
   "source": [
    "import csv\n",
    "import numpy as np\n",
    "import timeit\n",
    "from pathlib import Path\n",
    "from scipy.stats import spearmanr\n",
    "from matplotlib.colors import LogNorm\n",
    "import matplotlib.pyplot as plt\n",
    "%matplotlib inline  "
   ]
  },
  {
   "cell_type": "code",
   "execution_count": 26,
   "metadata": {},
   "outputs": [],
   "source": [
    "file_name='OUTPUT/OUTPUTCoalTimes'\n",
    "my_demography=np.loadtxt('Examples/example_simple_exp_lin_inc_N_10.txt')\n",
    "my_samples=np.loadtxt('Examples/example_simple_exp_sample_list.txt') \n",
    "my_samples=my_samples.astype(int)\n",
    "rows=5"
   ]
  },
  {
   "cell_type": "code",
   "execution_count": 27,
   "metadata": {},
   "outputs": [],
   "source": [
    "mean_coal_times=get_mean_times(file_name, 100)\n",
    "plot_diversity(my_samples, my_demography, rows, mean_coal_times)\n"
   ]
  },
  {
   "cell_type": "code",
   "execution_count": 36,
   "metadata": {},
   "outputs": [],
   "source": [
    "def plot_diversity(my_samples, my_demography,rows, mean_coal_times):\n",
    "    [T, map_size]=np.shape(my_demography)\n",
    "    div_map=np.zeros([map_size])\n",
    "    for i in range (len(my_samples)):\n",
    "        div_map[(my_samples[i])]=mean_coal_times[i,i]\n",
    "    div_map_2D=np.reshape(div_map,[rows, int(map_size/rows)])\n",
    "    plt.pcolor(div_map_2D)\n",
    "    return(div_map)\n",
    "\n",
    "def get_mean_times(file_name, n):  #it can take some time\n",
    "    \n",
    "    this_data=np.loadtxt(file_name+'1.txt')\n",
    "    dimension=np.size(this_data,0)\n",
    "    all_data=np.zeros([dimension,dimension])\n",
    "    file_count=0\n",
    "    for i in range(1,n+1):\n",
    "        this_file_name=(file_name+str(i)+'.txt')\n",
    "        my_file = Path(this_file_name)\n",
    "        if my_file.exists():\n",
    "            file_count=file_count+1\n",
    "            this_file_data=np.loadtxt(this_file_name)\n",
    "            all_data=all_data+this_file_data\n",
    "        else:\n",
    "            print ('The file', this_file_name, ' does not exists for ', i)\n",
    "    \n",
    "    mean_data=all_data/(file_count+0.0)\n",
    "    np.savetxt(file_name+'MEAN.txt', mean_data)\n",
    "    return mean_data\n"
   ]
  },
  {
   "cell_type": "code",
   "execution_count": 1,
   "metadata": {},
   "outputs": [],
   "source": [
    "\n",
    "\n",
    "def calculate_fst(T):\n",
    "    Fst=T+1\n",
    "    return(Fst)"
   ]
  },
  {
   "cell_type": "code",
   "execution_count": 5,
   "metadata": {},
   "outputs": [],
   "source": []
  },
  {
   "cell_type": "code",
   "execution_count": null,
   "metadata": {},
   "outputs": [],
   "source": []
  }
 ],
 "metadata": {
  "kernelspec": {
   "display_name": "Python 3",
   "language": "python",
   "name": "python3"
  },
  "language_info": {
   "codemirror_mode": {
    "name": "ipython",
    "version": 3
   },
   "file_extension": ".py",
   "mimetype": "text/x-python",
   "name": "python",
   "nbconvert_exporter": "python",
   "pygments_lexer": "ipython3",
   "version": "3.8.3"
  }
 },
 "nbformat": 4,
 "nbformat_minor": 4
}
